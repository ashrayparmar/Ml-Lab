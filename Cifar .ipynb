{
 "cells": [
  {
   "cell_type": "code",
   "execution_count": 23,
   "metadata": {},
   "outputs": [],
   "source": [
    "from tensorflow.keras.datasets import cifar10\n",
    "from matplotlib import pyplot as plt\n",
    "from tensorflow import keras\n",
    "import tensorflow.compat.v2 as tf\n",
    "from sklearn.model_selection import train_test_split\n",
    "from tensorflow.keras.utils import to_categorical as tcg\n",
    "from tensorflow.keras.models import Sequential\n",
    "from tensorflow.keras.layers import Dense, Flatten"
   ]
  },
  {
   "cell_type": "code",
   "execution_count": 24,
   "metadata": {},
   "outputs": [],
   "source": [
    "(xtr,ytr),(xte,yte)=cifar10.load_data()"
   ]
  },
  {
   "cell_type": "code",
   "execution_count": 25,
   "metadata": {},
   "outputs": [
    {
     "data": {
      "text/plain": [
       "(50000, 32, 32, 3)"
      ]
     },
     "execution_count": 25,
     "metadata": {},
     "output_type": "execute_result"
    }
   ],
   "source": [
    "xtr.shape"
   ]
  },
  {
   "cell_type": "code",
   "execution_count": 26,
   "metadata": {},
   "outputs": [
    {
     "data": {
      "text/plain": [
       "<matplotlib.image.AxesImage at 0x7f0c3f793610>"
      ]
     },
     "execution_count": 26,
     "metadata": {},
     "output_type": "execute_result"
    },
    {
     "data": {
      "image/png": "[encoded data removed]",
      "text/plain": [
       "<Figure size 432x288 with 1 Axes>"
      ]
     },
     "metadata": {
      "needs_background": "light"
     },
     "output_type": "display_data"
    }
   ],
   "source": [
    "plt.imshow(xtr[99], cmap='gray')"
   ]
  },
  {
   "cell_type": "code",
   "execution_count": 27,
   "metadata": {},
   "outputs": [
    {
     "data": {
      "text/plain": [
       "array([1], dtype=uint8)"
      ]
     },
     "execution_count": 27,
     "metadata": {},
     "output_type": "execute_result"
    }
   ],
   "source": [
    "ytr[99]"
   ]
  },
  {
   "cell_type": "code",
   "execution_count": 28,
   "metadata": {},
   "outputs": [
    {
     "data": {
      "text/plain": [
       "<matplotlib.image.AxesImage at 0x7f0c3f7033d0>"
      ]
     },
     "execution_count": 28,
     "metadata": {},
     "output_type": "execute_result"
    },
    {
     "data": {
      "image/png": "[encoded data removed]",
      "text/plain": [
       "<Figure size 432x288 with 1 Axes>"
      ]
     },
     "metadata": {
      "needs_background": "light"
     },
     "output_type": "display_data"
    }
   ],
   "source": [
    "plt.imshow(xte[99], cmap='gray')"
   ]
  },
  {
   "cell_type": "code",
   "execution_count": 29,
   "metadata": {},
   "outputs": [
    {
     "data": {
      "text/plain": [
       "array([7], dtype=uint8)"
      ]
     },
     "execution_count": 29,
     "metadata": {},
     "output_type": "execute_result"
    }
   ],
   "source": [
    "yte[99]"
   ]
  },
  {
   "cell_type": "code",
   "execution_count": 30,
   "metadata": {},
   "outputs": [],
   "source": [
    "ytr=tcg(ytr)\n",
    "yte=tcg(yte)"
   ]
  },
  {
   "cell_type": "code",
   "execution_count": 31,
   "metadata": {},
   "outputs": [],
   "source": [
    "xte=xte.reshape(xte.shape[0],xte.shape[1],xte.shape[2],3).astype('float32')/255\n",
    "xtr=xtr.reshape(xtr.shape[0],xtr.shape[1],xtr.shape[2],3).astype('float32')/255"
   ]
  },
  {
   "cell_type": "code",
   "execution_count": 32,
   "metadata": {},
   "outputs": [],
   "source": [
    "model = Sequential([\n",
    "  Flatten(input_shape=(32, 32, 3)),\n",
    "  Dense(256, activation='relu'),\n",
    "  Dense(128, activation='relu'),\n",
    "  Dense(64, activation='relu'),\n",
    "  Dense(10, activation='softmax'),\n",
    "])"
   ]
  },
  {
   "cell_type": "code",
   "execution_count": 33,
   "metadata": {},
   "outputs": [],
   "source": [
    "model.compile(loss='categorical_crossentropy',optimizer='adam', metrics=['accuracy'])"
   ]
  },
  {
   "cell_type": "code",
   "execution_count": 34,
   "metadata": {},
   "outputs": [
    {
     "name": "stdout",
     "output_type": "stream",
     "text": [
      "Train on 50000 samples, validate on 10000 samples\n",
      "Epoch 1/13\n",
      "50000/50000 [==============================] - 34s 675us/sample - loss: 1.8907 - accuracy: 0.3142 - val_loss: 1.7221 - val_accuracy: 0.3813\n",
      "Epoch 2/13\n",
      "50000/50000 [==============================] - 19s 379us/sample - loss: 1.6887 - accuracy: 0.3948 - val_loss: 1.6159 - val_accuracy: 0.4249\n",
      "Epoch 3/13\n",
      "50000/50000 [==============================] - 19s 375us/sample - loss: 1.6032 - accuracy: 0.4282 - val_loss: 1.5745 - val_accuracy: 0.4449\n",
      "Epoch 4/13\n",
      "50000/50000 [==============================] - 19s 376us/sample - loss: 1.5481 - accuracy: 0.4461 - val_loss: 1.5294 - val_accuracy: 0.4542\n",
      "Epoch 5/13\n",
      "50000/50000 [==============================] - 19s 370us/sample - loss: 1.5052 - accuracy: 0.4628 - val_loss: 1.5223 - val_accuracy: 0.4542\n",
      "Epoch 6/13\n",
      "50000/50000 [==============================] - 19s 373us/sample - loss: 1.4715 - accuracy: 0.4745 - val_loss: 1.4971 - val_accuracy: 0.4709\n",
      "Epoch 7/13\n",
      "50000/50000 [==============================] - 20s 406us/sample - loss: 1.4505 - accuracy: 0.4844 - val_loss: 1.4736 - val_accuracy: 0.4808\n",
      "Epoch 8/13\n",
      "50000/50000 [==============================] - 19s 381us/sample - loss: 1.4231 - accuracy: 0.4919 - val_loss: 1.5341 - val_accuracy: 0.4688\n",
      "Epoch 9/13\n",
      "50000/50000 [==============================] - 20s 405us/sample - loss: 1.4028 - accuracy: 0.4997 - val_loss: 1.5140 - val_accuracy: 0.4694\n",
      "Epoch 10/13\n",
      "50000/50000 [==============================] - 20s 407us/sample - loss: 1.3861 - accuracy: 0.5039 - val_loss: 1.4395 - val_accuracy: 0.4911\n",
      "Epoch 11/13\n",
      "50000/50000 [==============================] - 20s 391us/sample - loss: 1.3630 - accuracy: 0.5114 - val_loss: 1.4391 - val_accuracy: 0.4885\n",
      "Epoch 12/13\n",
      "50000/50000 [==============================] - 19s 377us/sample - loss: 1.3428 - accuracy: 0.5212 - val_loss: 1.4208 - val_accuracy: 0.4966\n",
      "Epoch 13/13\n",
      "50000/50000 [==============================] - 20s 405us/sample - loss: 1.3273 - accuracy: 0.5264 - val_loss: 1.4894 - val_accuracy: 0.4776\n"
     ]
    }
   ],
   "source": [
    "history = model.fit(xtr,ytr, validation_data=(xte,yte),epochs=13, batch_size=64)"
   ]
  },
  {
   "cell_type": "code",
   "execution_count": 35,
   "metadata": {},
   "outputs": [
    {
     "name": "stdout",
     "output_type": "stream",
     "text": [
      "50000/50000 [==============================] - 16s 320us/sample - loss: 1.3503 - accuracy: 0.5195\n"
     ]
    },
    {
     "data": {
      "text/plain": [
       "[1.3503036310958862, 0.51954]"
      ]
     },
     "execution_count": 35,
     "metadata": {},
     "output_type": "execute_result"
    }
   ],
   "source": [
    "model.evaluate(xtr,ytr)"
   ]
  },
  {
   "cell_type": "code",
   "execution_count": 36,
   "metadata": {},
   "outputs": [
    {
     "name": "stdout",
     "output_type": "stream",
     "text": [
      "10000/10000 [==============================] - 3s 271us/sample - loss: 1.4894 - accuracy: 0.4776\n"
     ]
    }
   ],
   "source": [
    "score = model.evaluate(xte,yte)"
   ]
  },
  {
   "cell_type": "code",
   "execution_count": 37,
   "metadata": {},
   "outputs": [
    {
     "name": "stdout",
     "output_type": "stream",
     "text": [
      "Test loss: 1.4893764204025268\n",
      "Test accuracy: 0.4776\n"
     ]
    }
   ],
   "source": [
    "print('Test loss:', score[0])\n",
    "print('Test accuracy:', score[1])"
   ]
  },
  {
   "cell_type": "code",
   "execution_count": 38,
   "metadata": {},
   "outputs": [
    {
     "data": {
      "image/png": "[encoded data removed]",
      "text/plain": [
       "<Figure size 432x288 with 1 Axes>"
      ]
     },
     "metadata": {
      "needs_background": "light"
     },
     "output_type": "display_data"
    }
   ],
   "source": [
    "plt.plot(history.history['accuracy'])\n",
    "plt.plot(history.history['val_accuracy'])\n",
    "plt.title('model accuracy')\n",
    "plt.ylabel('accuracy')\n",
    "plt.xlabel('epoch')\n",
    "plt.legend(['train', 'test'], loc='upper left')\n",
    "plt.show()"
   ]
  },
  {
   "cell_type": "code",
   "execution_count": 39,
   "metadata": {},
   "outputs": [
    {
     "data": {
      "image/png": "[encoded data removed]",
      "text/plain": [
       "<Figure size 432x288 with 1 Axes>"
      ]
     },
     "metadata": {
      "needs_background": "light"
     },
     "output_type": "display_data"
    }
   ],
   "source": [
    "plt.plot(history.history['loss'])\n",
    "plt.plot(history.history['val_loss'])\n",
    "plt.title('model loss')\n",
    "plt.ylabel('loss')\n",
    "plt.xlabel('epoch')\n",
    "plt.legend(['train', 'test'], loc='upper left')\n",
    "plt.show()"
   ]
  },
  {
   "cell_type": "code",
   "execution_count": null,
   "metadata": {},
   "outputs": [],
   "source": []
  }
 ],
 "metadata": {
  "kernelspec": {
   "display_name": "Python 3",
   "language": "python",
   "name": "python3"
  },
  "language_info": {
   "codemirror_mode": {
    "name": "ipython",
    "version": 3
   },
   "file_extension": ".py",
   "mimetype": "text/x-python",
   "name": "python",
   "nbconvert_exporter": "python",
   "pygments_lexer": "ipython3",
   "version": "3.7.6"
  }
 },
 "nbformat": 4,
 "nbformat_minor": 4
}
